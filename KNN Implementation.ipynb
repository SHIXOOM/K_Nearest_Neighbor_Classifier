{
 "cells": [
  {
   "cell_type": "code",
   "execution_count": 1,
   "metadata": {},
   "outputs": [],
   "source": [
    "import numpy as np"
   ]
  },
  {
   "cell_type": "code",
   "execution_count": 2,
   "metadata": {},
   "outputs": [
    {
     "data": {
      "text/plain": [
       "array([[1, 2, 3, 4],\n",
       "       [4, 5, 6, 2],\n",
       "       [7, 8, 9, 1]])"
      ]
     },
     "execution_count": 2,
     "metadata": {},
     "output_type": "execute_result"
    }
   ],
   "source": [
    "x = [[1, 2, 3, 4], [4, 5, 6, 2], [7, 8, 9, 1]]\n",
    "x = np.array(x)\n",
    "x"
   ]
  },
  {
   "cell_type": "code",
   "execution_count": 3,
   "metadata": {},
   "outputs": [
    {
     "data": {
      "text/plain": [
       "3"
      ]
     },
     "execution_count": 3,
     "metadata": {},
     "output_type": "execute_result"
    }
   ],
   "source": [
    "x.shape[0]"
   ]
  },
  {
   "cell_type": "code",
   "execution_count": 4,
   "metadata": {},
   "outputs": [
    {
     "data": {
      "text/plain": [
       "31"
      ]
     },
     "execution_count": 4,
     "metadata": {},
     "output_type": "execute_result"
    }
   ],
   "source": [
    "z = (x[0] - x[1])\n",
    "(z**2).sum()"
   ]
  },
  {
   "cell_type": "markdown",
   "metadata": {},
   "source": [
    "# Write the KNN Class"
   ]
  },
  {
   "cell_type": "code",
   "execution_count": 5,
   "metadata": {},
   "outputs": [],
   "source": [
    "class KNNClassifier:\n",
    "    def __init__(self, neighbors = 5) -> None:\n",
    "        self.k = neighbors\n",
    "        self.neighbors = []\n",
    "        \n",
    "        self.X = None\n",
    "        self.y = None\n",
    "        \n",
    "        self.counts = dict()\n",
    "        \n",
    "    def train(self, X: np.ndarray, y: np.ndarray):\n",
    "        self.X = X\n",
    "        self.y = y\n",
    "        \n",
    "        for i in y:\n",
    "            if i not in self.counts.keys():\n",
    "                self.counts[i] = 0\n",
    "        \n",
    "    def predict(self, X: np.ndarray):\n",
    "        # number of examples to get neighbors from\n",
    "        m = self.X.shape[0]\n",
    "        \n",
    "        # Number of features\n",
    "        n = self.X.shape[1]\n",
    "        \n",
    "        # Answers for the array X given to classify\n",
    "        answers = []\n",
    "        \n",
    "        # For each point we want to classify\n",
    "        for x in X:\n",
    "            \n",
    "            # Get the distance from point to all saved examples from training\n",
    "            for point in range(m):\n",
    "                distance = np.sqrt(((x - self.X[point])**2).sum())\n",
    "                self.neighbors.append((point, distance))\n",
    "                \n",
    "            # Once we got all examples and their distances from our point, sort them ascendingly based on distance\n",
    "            self.neighbors.sort(key = lambda point_distance: point_distance[1])\n",
    "            \n",
    "            # Take the nearest k examples\n",
    "            self.neighbors = self.neighbors[:self.k]\n",
    "            \n",
    "            # For each neighbor, make them vote for their class through the counts dictionary\n",
    "            classes = self.counts.copy()\n",
    "            for neighbor in self.neighbors:\n",
    "                classes[self.y[neighbor[0]]] += 1\n",
    "                \n",
    "            # Get the class with majority of votes and put it into the answers\n",
    "            winner_class = sorted(classes.items(), key = lambda class_votes: class_votes[1], reverse = True)[0][0]\n",
    "            \n",
    "            answers.append(winner_class)\n",
    "            \n",
    "            # Reset neighbors\n",
    "            self.neighbors.clear()   \n",
    "                \n",
    "        return answers\n",
    "                \n",
    "                "
   ]
  },
  {
   "cell_type": "markdown",
   "metadata": {},
   "source": [
    "# Lets test our class"
   ]
  },
  {
   "cell_type": "code",
   "execution_count": 6,
   "metadata": {},
   "outputs": [],
   "source": [
    "import pandas as pd"
   ]
  },
  {
   "cell_type": "markdown",
   "metadata": {},
   "source": [
    "*We will use MNSIT Dataset for testing*"
   ]
  },
  {
   "cell_type": "code",
   "execution_count": 7,
   "metadata": {},
   "outputs": [],
   "source": [
    "mnsit = pd.read_csv('MNSIT.csv')"
   ]
  },
  {
   "cell_type": "code",
   "execution_count": 8,
   "metadata": {},
   "outputs": [],
   "source": [
    "from sklearn.model_selection import train_test_split"
   ]
  },
  {
   "cell_type": "code",
   "execution_count": 9,
   "metadata": {},
   "outputs": [],
   "source": [
    "y = mnsit['label'][:5000]\n",
    "X = mnsit[mnsit.columns[1:]][:5000]\n",
    "\n",
    "x_train, x_test, y_train, y_test = train_test_split(X, y, test_size = 0.2, random_state = 420, stratify = y)\n",
    "knn = KNNClassifier(neighbors = 15)\n",
    "knn.train(x_train.to_numpy(), y_train.to_numpy())"
   ]
  },
  {
   "cell_type": "code",
   "execution_count": 10,
   "metadata": {},
   "outputs": [],
   "source": [
    "y_pred = knn.predict(x_test.to_numpy())"
   ]
  },
  {
   "cell_type": "code",
   "execution_count": 11,
   "metadata": {},
   "outputs": [
    {
     "data": {
      "image/png": "[encoded data removed]",
      "text/plain": [
       "<Figure size 640x480 with 2 Axes>"
      ]
     },
     "metadata": {},
     "output_type": "display_data"
    }
   ],
   "source": [
    "from sklearn.metrics import confusion_matrix, ConfusionMatrixDisplay, classification_report, accuracy_score\n",
    "import matplotlib.pyplot as plt\n",
    "\n",
    "cm = confusion_matrix(y_test, y_pred)\n",
    "\n",
    "# Display the confusion matrix\n",
    "disp = ConfusionMatrixDisplay(confusion_matrix=cm)\n",
    "disp.plot(cmap='Greens')\n",
    "plt.title(\"Confusion Matrix\")\n",
    "plt.show()"
   ]
  },
  {
   "cell_type": "code",
   "execution_count": 12,
   "metadata": {},
   "outputs": [
    {
     "name": "stdout",
     "output_type": "stream",
     "text": [
      "              precision    recall  f1-score   support\n",
      "\n",
      "           0       0.98      0.98      0.98        99\n",
      "           1       0.81      1.00      0.89       112\n",
      "           2       0.96      0.86      0.91       109\n",
      "           3       0.93      0.94      0.93        96\n",
      "           4       0.97      0.87      0.92        95\n",
      "           5       0.97      0.93      0.95        94\n",
      "           6       0.97      0.96      0.97       103\n",
      "           7       0.92      0.93      0.93       101\n",
      "           8       0.95      0.83      0.89        95\n",
      "           9       0.85      0.92      0.88        96\n",
      "\n",
      "    accuracy                           0.92      1000\n",
      "   macro avg       0.93      0.92      0.92      1000\n",
      "weighted avg       0.93      0.92      0.92      1000\n",
      "\n"
     ]
    }
   ],
   "source": [
    "report = classification_report(y_test, y_pred, zero_division = 'warn')\n",
    "print(report)"
   ]
  },
  {
   "cell_type": "code",
   "execution_count": 13,
   "metadata": {},
   "outputs": [
    {
     "data": {
      "text/plain": [
       "0.923"
      ]
     },
     "execution_count": 13,
     "metadata": {},
     "output_type": "execute_result"
    }
   ],
   "source": [
    "acc = accuracy_score(y_test, y_pred)\n",
    "acc"
   ]
  }
 ],
 "metadata": {
  "kernelspec": {
   "display_name": "base",
   "language": "python",
   "name": "python3"
  },
  "language_info": {
   "codemirror_mode": {
    "name": "ipython",
    "version": 3
   },
   "file_extension": ".py",
   "mimetype": "text/x-python",
   "name": "python",
   "nbconvert_exporter": "python",
   "pygments_lexer": "ipython3",
   "version": "3.11.4"
  }
 },
 "nbformat": 4,
 "nbformat_minor": 2
}
