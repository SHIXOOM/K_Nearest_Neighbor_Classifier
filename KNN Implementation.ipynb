{
 "cells": [
  {
   "cell_type": "code",
   "execution_count": 67,
   "metadata": {},
   "outputs": [],
   "source": [
    "import numpy as np\n",
    "from joblib import Parallel, delayed"
   ]
  },
  {
   "cell_type": "code",
   "execution_count": 68,
   "metadata": {},
   "outputs": [
    {
     "data": {
      "text/plain": [
       "array([[1, 2, 3, 4],\n",
       "       [4, 5, 6, 2],\n",
       "       [7, 8, 9, 1]])"
      ]
     },
     "execution_count": 68,
     "metadata": {},
     "output_type": "execute_result"
    }
   ],
   "source": [
    "x = [[1, 2, 3, 4], [4, 5, 6, 2], [7, 8, 9, 1]]\n",
    "x = np.array(x)\n",
    "x"
   ]
  },
  {
   "cell_type": "code",
   "execution_count": 69,
   "metadata": {},
   "outputs": [
    {
     "data": {
      "text/plain": [
       "3"
      ]
     },
     "execution_count": 69,
     "metadata": {},
     "output_type": "execute_result"
    }
   ],
   "source": [
    "x.shape[0]"
   ]
  },
  {
   "cell_type": "code",
   "execution_count": 70,
   "metadata": {},
   "outputs": [
    {
     "data": {
      "text/plain": [
       "31"
      ]
     },
     "execution_count": 70,
     "metadata": {},
     "output_type": "execute_result"
    }
   ],
   "source": [
    "z = (x[0] - x[1])\n",
    "(z**2).sum()"
   ]
  },
  {
   "cell_type": "code",
   "execution_count": 92,
   "metadata": {},
   "outputs": [
    {
     "data": {
      "text/plain": [
       "array([ 0.        ,  5.56776436, 10.81665383])"
      ]
     },
     "execution_count": 92,
     "metadata": {},
     "output_type": "execute_result"
    }
   ],
   "source": [
    "c = (x[0] - x)**2\n",
    "\n",
    "c = np.sqrt(c.sum(axis = 1))\n",
    "c"
   ]
  },
  {
   "cell_type": "code",
   "execution_count": 126,
   "metadata": {},
   "outputs": [
    {
     "data": {
      "text/plain": [
       "array([[ 0.        ,  5.56776436, 10.81665383],\n",
       "       [ 6.        ,  2.        ,  3.        ]])"
      ]
     },
     "execution_count": 126,
     "metadata": {},
     "output_type": "execute_result"
    }
   ],
   "source": [
    "yy = np.array([6, 2, 3])\n",
    "\n",
    "dc = np.array([c, yy])\n",
    "dc"
   ]
  },
  {
   "cell_type": "code",
   "execution_count": 127,
   "metadata": {},
   "outputs": [
    {
     "data": {
      "text/plain": [
       "[[0.0, 6.0], [5.5677643628300215, 2.0], [10.816653826391969, 3.0]]"
      ]
     },
     "execution_count": 127,
     "metadata": {},
     "output_type": "execute_result"
    }
   ],
   "source": [
    "dc = sorted(dc.T.tolist(), key = lambda x: x[0])\n",
    "dc"
   ]
  },
  {
   "cell_type": "markdown",
   "metadata": {},
   "source": [
    "# Write the KNN Class"
   ]
  },
  {
   "cell_type": "code",
   "execution_count": null,
   "metadata": {},
   "outputs": [],
   "source": [
    "'''When I first implemented this class it took about 60 mins for prediction on the MNSIT Dataset\n",
    "I tried parallizing some processes with joblib and using numpy purely for others so that it takes about 4 mins only for prediction now'''\n",
    "\n",
    "\n",
    "class KNNClassifier:\n",
    "    def __init__(self, neighbors = 5) -> None:\n",
    "        self.k = neighbors\n",
    "        \n",
    "        self.X = None\n",
    "        self.y = None\n",
    "        \n",
    "        self.counts = dict()\n",
    "        \n",
    "    def train(self, X: np.ndarray, y: np.ndarray):\n",
    "        self.X = X\n",
    "        self.y = y\n",
    "        \n",
    "        for i in y:\n",
    "            if i not in self.counts.keys():\n",
    "                self.counts[i] = 0\n",
    "        \n",
    "    def nearest_neighbors(self, x):\n",
    "        \n",
    "        # Calculate the distance between x and all training points\n",
    "        distance = np.sqrt(((x - self.X)**2).sum(axis = 1))\n",
    "        \n",
    "        # Assign each distance and the class it corresponds to (index order is preserved this way) to neighbors\n",
    "        neighbors = np.array([distance, self.y])\n",
    "        \n",
    "        # Once we got all examples and their distances from x, sort them ascendingly based on distance. \n",
    "        # Transpose to pair each distance with its class instead of having to different lists one for distances and one for classes \n",
    "        neighbors = sorted(neighbors.T.tolist(), key = lambda x: x[0])\n",
    "        \n",
    "    \n",
    "        # Take the nearest k neighbors to x\n",
    "        neighbors = neighbors[:self.k]\n",
    "        \n",
    "        return neighbors\n",
    "    \n",
    "    def classify(self, x):\n",
    "        nearest_neighbors = self.nearest_neighbors(x)\n",
    "        \n",
    "        # Copy counts first to not make any error across instances\n",
    "        classes = self.counts.copy()\n",
    "        \n",
    "        # For each neighbor, vote for their class through the counts dictionary\n",
    "        for neighbor in nearest_neighbors:\n",
    "            classes[neighbor[1]] += 1\n",
    "            \n",
    "        # Get the class with majority of votes and put it into the answers\n",
    "        winner_class = sorted(classes.items(), key = lambda class_votes: class_votes[1], reverse = True)[0][0]\n",
    "            \n",
    "        return winner_class\n",
    "        \n",
    "    def predict(self, X: np.ndarray):\n",
    "        # number of examples to get neighbors from\n",
    "        m = self.X.shape[0]\n",
    "        \n",
    "        # Answers for the array X given to classify\n",
    "        classifications = []\n",
    "        \n",
    "        # Get the majority class for point given all saved examples from training\n",
    "        # Using all CPU cores available, we will classify each point we want to predict in parallel using joblib\n",
    "        classifications = Parallel(n_jobs = -1)(delayed(self.classify)(x) for x in X)\n",
    "            \n",
    "                \n",
    "                \n",
    "        return classifications\n",
    "                \n",
    "            "
   ]
  },
  {
   "cell_type": "markdown",
   "metadata": {},
   "source": [
    "# Lets test our class"
   ]
  },
  {
   "cell_type": "code",
   "execution_count": 156,
   "metadata": {},
   "outputs": [],
   "source": [
    "import pandas as pd"
   ]
  },
  {
   "cell_type": "markdown",
   "metadata": {},
   "source": [
    "*We will use MNSIT Dataset for testing*"
   ]
  },
  {
   "cell_type": "code",
   "execution_count": 73,
   "metadata": {},
   "outputs": [],
   "source": [
    "mnsit = pd.read_csv('MNSIT.csv')"
   ]
  },
  {
   "cell_type": "code",
   "execution_count": 74,
   "metadata": {},
   "outputs": [],
   "source": [
    "from sklearn.model_selection import train_test_split"
   ]
  },
  {
   "cell_type": "code",
   "execution_count": 175,
   "metadata": {},
   "outputs": [],
   "source": [
    "y = mnsit['label']\n",
    "X = mnsit[mnsit.columns[1:]]\n",
    "\n",
    "x_train, x_test, y_train, y_test = train_test_split(X, y, test_size = 0.2, random_state = 420, stratify = y)\n",
    "knn = KNNClassifier(neighbors = 15)\n",
    "knn.train(x_train.to_numpy(), y_train.to_numpy())"
   ]
  },
  {
   "cell_type": "code",
   "execution_count": 176,
   "metadata": {},
   "outputs": [],
   "source": [
    "y_pred = knn.predict(x_test.to_numpy())"
   ]
  },
  {
   "cell_type": "code",
   "execution_count": 177,
   "metadata": {},
   "outputs": [
    {
     "data": {
      "image/png": "[encoded data removed]",
      "text/plain": [
       "<Figure size 640x480 with 2 Axes>"
      ]
     },
     "metadata": {},
     "output_type": "display_data"
    }
   ],
   "source": [
    "from sklearn.metrics import confusion_matrix, ConfusionMatrixDisplay, classification_report, accuracy_score\n",
    "import matplotlib.pyplot as plt\n",
    "\n",
    "cm = confusion_matrix(y_test, y_pred)\n",
    "\n",
    "# Display the confusion matrix\n",
    "disp = ConfusionMatrixDisplay(confusion_matrix=cm)\n",
    "disp.plot(cmap='Greens')\n",
    "plt.title(\"Confusion Matrix\")\n",
    "plt.show()"
   ]
  },
  {
   "cell_type": "code",
   "execution_count": 178,
   "metadata": {},
   "outputs": [
    {
     "name": "stdout",
     "output_type": "stream",
     "text": [
      "              precision    recall  f1-score   support\n",
      "\n",
      "           0       0.97      0.99      0.98       827\n",
      "           1       0.93      1.00      0.96       937\n",
      "           2       0.99      0.92      0.95       835\n",
      "           3       0.94      0.96      0.95       870\n",
      "           4       0.98      0.95      0.96       814\n",
      "           5       0.96      0.96      0.96       759\n",
      "           6       0.96      0.99      0.97       827\n",
      "           7       0.94      0.95      0.95       880\n",
      "           8       0.98      0.90      0.94       813\n",
      "           9       0.93      0.94      0.94       838\n",
      "\n",
      "    accuracy                           0.96      8400\n",
      "   macro avg       0.96      0.96      0.96      8400\n",
      "weighted avg       0.96      0.96      0.96      8400\n",
      "\n"
     ]
    }
   ],
   "source": [
    "report = classification_report(y_test, y_pred, zero_division = 'warn')\n",
    "print(report)"
   ]
  },
  {
   "cell_type": "code",
   "execution_count": 179,
   "metadata": {},
   "outputs": [
    {
     "data": {
      "text/plain": [
       "0.9565476190476191"
      ]
     },
     "execution_count": 179,
     "metadata": {},
     "output_type": "execute_result"
    }
   ],
   "source": [
    "acc = accuracy_score(y_test, y_pred)\n",
    "acc"
   ]
  }
 ],
 "metadata": {
  "kernelspec": {
   "display_name": "base",
   "language": "python",
   "name": "python3"
  },
  "language_info": {
   "codemirror_mode": {
    "name": "ipython",
    "version": 3
   },
   "file_extension": ".py",
   "mimetype": "text/x-python",
   "name": "python",
   "nbconvert_exporter": "python",
   "pygments_lexer": "ipython3",
   "version": "3.11.4"
  }
 },
 "nbformat": 4,
 "nbformat_minor": 2
}
